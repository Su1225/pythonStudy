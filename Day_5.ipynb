{
 "cells": [
  {
   "cell_type": "markdown",
   "metadata": {},
   "source": [
    "Function:\n",
    "\n",
    "1. 参数\n",
    " \n",
    "    以下是调用函数时可使用的正式参数类型：\n",
    "\n",
    "        -位置参数: 调用函数时根据函数定义的参数位置来传递参数。\n",
    "        -关键字参数: 用于函数调用，通过“键-值”形式加以指定。\n",
    "        -默认参数: 用于定义函数，为参数提供默认值，调用函数时可传可不传该默认参数的值\n",
    "                    （注意：所有位置参数必须出现在默认参数前，包括函数定义和调用）\n",
    "        -不定长参数: 定义函数时，有时候我们不确定调用的时候会传递多少个参数(不传参也可以)\n",
    "                   可用包裹(packing)位置参数:\n",
    "                       \n",
    "                       def func(*args):\n",
    "                           ...\n",
    "                       \n",
    "                       func(a)\n",
    "                       func(a,b)\n",
    "                       func(a,b,c)\n",
    "                       ...\n",
    "                   \n",
    "                   传进的所有参数都会被args变量收集，它会根据传进参数的位置合并为一个元组(tuple)，args是元组类型\n",
    "                    \n",
    "                   或者包裹关键字参数，来进行参数传递:\n",
    "                   \n",
    "                       def func(**kargs):\n",
    "                           ...\n",
    "                       \n",
    "                       func(a = 1)\n",
    "                       func(a = 1,b = 2)\n",
    "                       func(a = 1,b = 2, c = 3)\n",
    "                       ...\n",
    "                       \n",
    "                   kargs是一个字典(dict)，收集所有关键字参数\n",
    "                   \n",
    "                   \n",
    "                   *和**，也可以在函数调用的时候使用，称之为解包裹(unpacking)\n",
    "                   \n",
    "                   \n",
    "    位置参数、默认参数、可变参数的混合使用:\n",
    "    \n",
    "        \n",
    "        基本原则是：先位置参数，默认参数，包裹位置，包裹关键字(定义和调用都应遵循)\n",
    "\n",
    "\n",
    "2. 变量作用域\n",
    "\n",
    "    Python的作用域一共有4种，分别是：\n",
    "    \n",
    "        - L （Local） 局部作用域\n",
    "        - E （Enclosing） 闭包函数外的函数中\n",
    "        - G （Global） 全局作用域\n",
    "        - B （Built-in） 内建作用域\n",
    "        \n",
    "    以 L –> E –> G –>B 的规则查找，即：在局部找不到，便会去局部外的局部找（例如闭包），再找不到就会去全局找，再者去内建中找。"
   ]
  },
  {
   "cell_type": "code",
   "execution_count": 10,
   "metadata": {
    "scrolled": true
   },
   "outputs": [
    {
     "name": "stdout",
     "output_type": "stream",
     "text": [
      "Hello Mr.tanggu, welcome to python world!\n",
      "Hello Mrs.Chris Su, welcome to python world!\n",
      "tanggu 男\n"
     ]
    }
   ],
   "source": [
    "def print_hello(name, sex):\n",
    "    \n",
    "    sex_dict = {1: u'Mr', 2: u'Mrs'}\n",
    "    \n",
    "    print('Hello {}.{}, welcome to python world!'.format(sex_dict.get(sex),name))\n",
    "    #print ('hello %s %s, welcome to python world!' %(name, sex_dict.get(sex, u'先生')))\n",
    "\n",
    "\n",
    "# 两个参数的顺序必须一一对应，且少一个参数都不可以\n",
    "print_hello('tanggu', 1)\n",
    "print_hello('Chris Su', 2)"
   ]
  },
  {
   "cell_type": "code",
   "execution_count": 20,
   "metadata": {},
   "outputs": [
    {
     "name": "stdout",
     "output_type": "stream",
     "text": [
      "{'name': 'Tanggu', 'sex': 'Male'}\n",
      "('tanggu', '男', 18, 'Computer Science')\n"
     ]
    }
   ],
   "source": [
    "def print_hello(**kargs):\n",
    "    print(kargs)\n",
    "\n",
    "kargs = {'name': 'Tanggu', 'sex':'Male'}\n",
    "print_hello(**kargs)\n",
    "\n",
    "def print_hello2(*args):\n",
    "    print(args)\n",
    "    \n",
    "args = ('tanggu', '男',18,'Computer Science')\n",
    "print_hello2(*args)"
   ]
  },
  {
   "cell_type": "code",
   "execution_count": 22,
   "metadata": {
    "scrolled": true
   },
   "outputs": [
    {
     "name": "stdout",
     "output_type": "stream",
     "text": [
      "args =  (1, 2, 3, 4)\n",
      "kwargs =  {}\n",
      "---------------------------------------\n",
      "args =  ()\n",
      "kwargs =  {'a': 1, 'b': 2, 'c': 3}\n",
      "---------------------------------------\n",
      "args =  (1, 2, 3, 4)\n",
      "kwargs =  {'a': 1, 'b': 2, 'c': 3}\n",
      "---------------------------------------\n",
      "args =  ('a', 1, None)\n",
      "kwargs =  {'a': 1, 'b': '2', 'c': 3}\n",
      "---------------------------------------\n"
     ]
    }
   ],
   "source": [
    "def foo(*args, **kwargs):\n",
    "    print('args = ', args)\n",
    "    print('kwargs = ', kwargs)\n",
    "    print('---------------------------------------')\n",
    "\n",
    "if __name__ == '__main__':\n",
    "    foo(1,2,3,4)\n",
    "    foo(a=1,b=2,c=3)\n",
    "    foo(1,2,3,4, a=1,b=2,c=3)\n",
    "    foo('a', 1, None, a=1, b='2', c=3)\n"
   ]
  },
  {
   "cell_type": "code",
   "execution_count": 29,
   "metadata": {
    "scrolled": true
   },
   "outputs": [
    {
     "name": "stdout",
     "output_type": "stream",
     "text": [
      "100\n",
      "100\n",
      "whatever\n",
      "99\n"
     ]
    }
   ],
   "source": [
    "def fun():\n",
    "    global b3\n",
    "    b3 = 100\n",
    "    print(b3)\n",
    "    print('whatever')\n",
    "    \n",
    "    b2 = 99\n",
    "    print(b2)\n",
    "    \n",
    "    \n",
    "print(b3)\n",
    "fun()\n"
   ]
  },
  {
   "cell_type": "code",
   "execution_count": 31,
   "metadata": {
    "scrolled": true
   },
   "outputs": [
    {
     "name": "stdout",
     "output_type": "stream",
     "text": [
      "Locals={'c': 100, 'd': 200, 'e': 111}\n"
     ]
    }
   ],
   "source": [
    "a = 1\n",
    "b = 2\n",
    "\n",
    "def fun(c,d):\n",
    "    e = 111\n",
    "    print(\"Locals={0}\".format(locals()))\n",
    "    print(\"Globals={0}\".format(globals()))\n",
    "    \n",
    "fun(100, 200)"
   ]
  },
  {
   "cell_type": "markdown",
   "metadata": {},
   "source": [
    "eval() 函数 :\n",
    "\n",
    "    eval() 函数用来执行一个字符串表达式，并返回表达式的值。\n",
    "    \n",
    "    以下是 eval() 方法的语法: eval(expression[, globals[, locals]]) \n",
    "    \n",
    "        expression -- 表达式\n",
    "        globals -- 变量作用域，全局命名空间，如果被提供，则必须是一个字典对象\n",
    "        locals -- 变量作用域，局部命名空间，如果被提供，可以是任何映射对象"
   ]
  },
  {
   "cell_type": "code",
   "execution_count": 33,
   "metadata": {},
   "outputs": [
    {
     "name": "stdout",
     "output_type": "stream",
     "text": [
      "2\n",
      "144\n"
     ]
    }
   ],
   "source": [
    "'''\n",
    "\n",
    "斐波那契数列\n",
    "\n",
    "数学公式为： f(1) = 1, f(2) = 1, f(n) = f(n-1) + f(n-2)\n",
    "\n",
    "'''\n",
    "\n",
    "def fib(n):\n",
    "    if n == 1:\n",
    "        return 1\n",
    "    \n",
    "    if n == 2:\n",
    "        return 1\n",
    "    \n",
    "    return fib(n-1) + fib(n-2)\n",
    "\n",
    "print(fib(3))\n",
    "print(fib(12))"
   ]
  },
  {
   "cell_type": "code",
   "execution_count": 1,
   "metadata": {
    "scrolled": true
   },
   "outputs": [
    {
     "name": "stdout",
     "output_type": "stream",
     "text": [
      "m = 9\n",
      "n = 88\n",
      "0\n"
     ]
    }
   ],
   "source": [
    "def factorial(num):\n",
    "    \"\"\"\n",
    "    求阶乘\n",
    "    \n",
    "    :param num: 非负整数\n",
    "    \n",
    "    :return: num的阶乘\n",
    "    \"\"\"\n",
    "    result = 1\n",
    "    for n in range(1, num + 1):\n",
    "        result *= n\n",
    "    return result\n",
    "\n",
    "\n",
    "m = int(input('m = '))\n",
    "n = int(input('n = '))\n",
    "# 当需要计算阶乘的时候不用再写循环求阶乘而是直接调用已经定义好的函数\n",
    "print(factorial(m) // factorial(n) // factorial(m - n))\n"
   ]
  },
  {
   "cell_type": "code",
   "execution_count": 35,
   "metadata": {},
   "outputs": [
    {
     "name": "stdout",
     "output_type": "stream",
     "text": [
      "9\n",
      "11\n",
      "0\n",
      "1\n",
      "3\n",
      "6\n",
      "25\n"
     ]
    }
   ],
   "source": [
    "from random import randint\n",
    "\n",
    "def roll_dice(n=2):\n",
    "    \"\"\"\n",
    "    摇色子\n",
    "    \n",
    "    :param n: 色子的个数\n",
    "    \n",
    "    :return: n颗色子点数之和\n",
    "    \"\"\"\n",
    "    total = 0\n",
    "\n",
    "    for _ in range(n):\n",
    "        total += randint(1, 6)\n",
    "    return total\n",
    "\n",
    "\n",
    "def add(a=0, b=0, c=0):\n",
    "    return a + b + c\n",
    "\n",
    "print(roll_dice())\n",
    "# 摇三颗色子\n",
    "print(roll_dice(3))\n",
    "\n",
    "\n",
    "def add(*args):\n",
    "    total = 0\n",
    "    for val in args:\n",
    "        total += val\n",
    "    return total\n",
    "\n",
    "print(add())\n",
    "print(add(1))\n",
    "print(add(1, 2))\n",
    "print(add(1, 2, 3))\n",
    "print(add(1, 3, 5, 7, 9))"
   ]
  },
  {
   "cell_type": "markdown",
   "metadata": {},
   "source": [
    "Python中每个文件就代表了一个模块（module），我们在不同的模块中可以有同名的函数，在使用函数的时候我们通过import关键字导入指定的模块就可以区分到底要使用的是哪个模块中的函数."
   ]
  },
  {
   "cell_type": "code",
   "execution_count": 36,
   "metadata": {
    "scrolled": true
   },
   "outputs": [
    {
     "name": "stdout",
     "output_type": "stream",
     "text": [
      "3\n",
      "135\n"
     ]
    }
   ],
   "source": [
    "\"\"\"\n",
    "\n",
    "函数的定义和使用 - 求最大公约数和最小公倍数\n",
    "\n",
    "\n",
    "\"\"\"\n",
    "\n",
    "\n",
    "def gcd(x, y):\n",
    "    if x > y:\n",
    "        (x, y) = (y, x)\n",
    "    for factor in range(x, 1, -1):\n",
    "        if x % factor == 0 and y % factor == 0:\n",
    "            return factor\n",
    "    return 1\n",
    "\n",
    "\n",
    "def lcm(x, y):\n",
    "    return x * y // gcd(x, y)\n",
    "\n",
    "\n",
    "print(gcd(15, 27))\n",
    "print(lcm(15, 27))"
   ]
  },
  {
   "cell_type": "markdown",
   "metadata": {},
   "source": [
    "\n",
    "    Python的内置函数:\n",
    "            - 数学相关: abs / divmod / pow / round / min / max / sum\n",
    "            - 序列相关: len / range / next / filter / map / sorted / slice / reversed\n",
    "            - 类型转换: chr / ord / str / bool / int / float / complex / bin / oct / hex\n",
    "            - 数据结构: dict / list / set / tuple\n",
    "            - 其他函数: all / any / id / input / open / print / type\n",
    "\n",
    "    Python常用模块\n",
    "            - 运行时服务相关模块: copy / pickle / sys / ...\n",
    "            - 数学相关模块: decimal / math / random / ...\n",
    "            - 字符串处理模块: codecs / re / ...\n",
    "            - 文件处理相关模块: shutil / gzip / ...\n",
    "            - 操作系统服务相关模块: datetime / os / time / logging / io / ...\n",
    "            - 进程和线程相关模块: multiprocessing / threading / queue\n",
    "            - 网络应用相关模块: ftplib / http / smtplib / urllib / ...\n",
    "            - Web编程相关模块: cgi / webbrowser\n",
    "            - 数据处理和编码模块: base64 / csv / html.parser / json / xml / ...\n",
    "\n",
    "\n"
   ]
  },
  {
   "cell_type": "code",
   "execution_count": 48,
   "metadata": {},
   "outputs": [
    {
     "name": "stdout",
     "output_type": "stream",
     "text": [
      "Help on class filter in module builtins:\n",
      "\n",
      "class filter(object)\n",
      " |  filter(function or None, iterable) --> filter object\n",
      " |  \n",
      " |  Return an iterator yielding those items of iterable for which function(item)\n",
      " |  is true. If function is None, return the items that are true.\n",
      " |  \n",
      " |  Methods defined here:\n",
      " |  \n",
      " |  __getattribute__(self, name, /)\n",
      " |      Return getattr(self, name).\n",
      " |  \n",
      " |  __iter__(self, /)\n",
      " |      Implement iter(self).\n",
      " |  \n",
      " |  __next__(self, /)\n",
      " |      Implement next(self).\n",
      " |  \n",
      " |  __reduce__(...)\n",
      " |      Return state information for pickling.\n",
      " |  \n",
      " |  ----------------------------------------------------------------------\n",
      " |  Static methods defined here:\n",
      " |  \n",
      " |  __new__(*args, **kwargs) from builtins.type\n",
      " |      Create and return a new object.  See help(type) for accurate signature.\n",
      "\n",
      "['peach', 'durian']\n",
      "['orange', 'peach', 'durian', 'watermelon']\n",
      "['orange', 'durian']\n"
     ]
    }
   ],
   "source": [
    "def myfilter(mystr):\n",
    "    return len(mystr) == 6\n",
    "\n",
    "#help()\n",
    "\n",
    "\"\"\"\n",
    "help(divmod)\n",
    "\n",
    "print(chr(0x9a86))\n",
    "\n",
    "print(hex(ord('骆')))\n",
    "\n",
    "print(abs(-1.2345))\n",
    "\n",
    "print(round(-1.2345))\n",
    "\n",
    "print(pow(1.2345, 5))\n",
    "\n",
    "\"\"\"\n",
    "help(filter)\n",
    "fruits = ['orange', 'peach', 'durian', 'watermelon']\n",
    "print(fruits[slice(1, 3)])\n",
    "fruits2 = list(filter(myfilter, fruits))\n",
    "print(fruits)\n",
    "print(fruits2)"
   ]
  },
  {
   "cell_type": "code",
   "execution_count": null,
   "metadata": {},
   "outputs": [],
   "source": []
  }
 ],
 "metadata": {
  "kernelspec": {
   "display_name": "Python 3",
   "language": "python",
   "name": "python3"
  },
  "language_info": {
   "codemirror_mode": {
    "name": "ipython",
    "version": 3
   },
   "file_extension": ".py",
   "mimetype": "text/x-python",
   "name": "python",
   "nbconvert_exporter": "python",
   "pygments_lexer": "ipython3",
   "version": "3.7.0"
  }
 },
 "nbformat": 4,
 "nbformat_minor": 2
}
