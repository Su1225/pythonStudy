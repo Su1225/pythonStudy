{
 "cells": [
  {
   "cell_type": "code",
   "execution_count": 3,
   "metadata": {
    "scrolled": true
   },
   "outputs": [
    {
     "name": "stdout",
     "output_type": "stream",
     "text": [
      "机选几注: 2\n",
      "03 10 18 22 24 27 | 15 \n",
      "06 08 16 19 23 25 | 01 \n"
     ]
    }
   ],
   "source": [
    "from random import randrange, randint, sample\n",
    "\n",
    "\n",
    "def display(balls):\n",
    "    \"\"\"\n",
    "    输出列表中的双色球号码\n",
    "    \"\"\"\n",
    "    for index, ball in enumerate(balls):\n",
    "        if index == len(balls) - 1:\n",
    "            print('|', end=' ')\n",
    "        print('%02d' % ball, end=' ')\n",
    "    print()\n",
    "\n",
    "\n",
    "def random_select():\n",
    "    \"\"\"\n",
    "    随机选择一组号码\n",
    "    \"\"\"\n",
    "    red_balls = [x for x in range(1, 34)]\n",
    "    selected_balls = []\n",
    "    for _ in range(6):\n",
    "        index = randrange(len(red_balls))\n",
    "        selected_balls.append(red_balls[index])\n",
    "        del red_balls[index]\n",
    "    # 上面的for循环也可以写成下面这行代码\n",
    "    # sample函数是random模块下的函数\n",
    "    # selected_balls = sample(red_balls, 6)\n",
    "    selected_balls.sort()\n",
    "    selected_balls.append(randint(1, 16))\n",
    "    return selected_balls\n",
    "\n",
    "\n",
    "def main():\n",
    "    n = int(input('机选几注: '))\n",
    "    for _ in range(n):\n",
    "        display(random_select())\n",
    "\n",
    "\n",
    "if __name__ == '__main__':\n",
    "    main()\n",
    "  "
   ]
  },
  {
   "cell_type": "code",
   "execution_count": 8,
   "metadata": {},
   "outputs": [
    {
     "name": "stdout",
     "output_type": "stream",
     "text": [
      "1\n",
      "2\n",
      "3\n",
      "4\n",
      "5\n",
      "I love wangxiaojing\n"
     ]
    }
   ],
   "source": [
    "a = [1,2,3,4,5]\n",
    "\n",
    "for i in a:\n",
    "    print(i)\n",
    "    \n",
    "\n",
    "b = [\"I love wangxiaojing\"]\n",
    "\n",
    "for i in b:\n",
    "    print(i)\n",
    "    "
   ]
  },
  {
   "cell_type": "code",
   "execution_count": 11,
   "metadata": {},
   "outputs": [
    {
     "name": "stdout",
     "output_type": "stream",
     "text": [
      "one -- 1\n",
      "two -- 2\n",
      "three -- 3\n",
      "one -- 1 -- eins\n",
      "two -- 2 -- zwei\n",
      "three -- 3 -- drei\n"
     ]
    }
   ],
   "source": [
    "a = [[\"one\", 1], [\"two\", 2], [\"three\", 3] ]\n",
    "\n",
    "for k,v in a:\n",
    "    print(k, \"--\", v)\n",
    "    \n",
    "\n",
    "# 双层列表循环变异\n",
    "\n",
    "a = [[\"one\", 1, \"eins\"], [\"two\", 2,\"zwei\"], [\"three\", 3,\"drei\"] ]\n",
    "for k,v,w in a:\n",
    "    print(k, \"--\", v, \"--\",w)"
   ]
  },
  {
   "cell_type": "code",
   "execution_count": 16,
   "metadata": {
    "scrolled": true
   },
   "outputs": [
    {
     "name": "stdout",
     "output_type": "stream",
     "text": [
      "['a', 'b', 'c']\n",
      "[10, 20, 30, 40, 50]\n",
      "[2, 4, 6, 8, 10, 12, 14, 16, 18, 20, 22, 24, 26, 28, 30, 32, 34]\n",
      "[1, 2, 3, 4, 5, 6, 7, 8, 9, 10, 11, 12, 13, 14, 15, 16, 17, 18, 19, 20, 21, 22, 23, 24, 25, 26, 27, 28, 29, 30, 31, 32, 33, 34]\n"
     ]
    }
   ],
   "source": [
    "a = ['a', 'b', 'c']\n",
    "b = [i for i in a]\n",
    "print(b)\n",
    "\n",
    "\n",
    "a = [1,2,3,4,5]\n",
    "c = [i*10 for i in a]\n",
    "print(c)\n",
    "\n",
    "a = [x for x in range(1,35)] \n",
    "d = [m for m in a if m % 2 == 0]\n",
    "print(d)"
   ]
  },
  {
   "cell_type": "code",
   "execution_count": 22,
   "metadata": {
    "scrolled": true
   },
   "outputs": [
    {
     "name": "stdout",
     "output_type": "stream",
     "text": [
      "[1, 2, 3]\n",
      "[100, 200, 300]\n",
      "101,201,301,102,202,302,103,203,303,\n",
      "[101, 201, 102, 202, 103, 203]\n"
     ]
    }
   ],
   "source": [
    "a = [i for i in range(1,4)] \n",
    "print(a)\n",
    "\n",
    "b = [i for i in range(100,400) if i % 100 == 0]\n",
    "print(b)\n",
    "\n",
    "# 列表生成是可以嵌套,此时等于两个for循环嵌套\n",
    "#c = [  m+n for m in a for n in b]\n",
    "#print(c)\n",
    "\n",
    "# 上面代码跟下面代码等价\n",
    "for m in a:\n",
    "    for n in b:\n",
    "        print(m+n, end=\",\")\n",
    "print()\n",
    "\n",
    "c = [  m+n for m in a for n in b if m+n < 250]\n",
    "print(c)"
   ]
  },
  {
   "cell_type": "code",
   "execution_count": 26,
   "metadata": {},
   "outputs": [
    {
     "name": "stdout",
     "output_type": "stream",
     "text": [
      "99\n",
      "99\n",
      "1\n",
      "python\n",
      "film\n"
     ]
    }
   ],
   "source": [
    "a = [x for x in range(1,100)]\n",
    "print(len(a))\n",
    "\n",
    "# max:求列表中的最大值\n",
    "# min： 同理\n",
    "print(max(a))\n",
    "print(min(a))\n",
    "\n",
    "b = ['man', 'film', 'python']\n",
    "print(max(b))\n",
    "print(min(b))"
   ]
  },
  {
   "cell_type": "code",
   "execution_count": 30,
   "metadata": {
    "scrolled": true
   },
   "outputs": [
    {
     "name": "stdout",
     "output_type": "stream",
     "text": [
      "[1, 2, 3]\n",
      "['I', ' ', 'l', 'o', 'v', 'e', ' ', 'w', 'a', 'n', 'g', 'x', 'i', 'a', 'o', 'j', 'i', 'n', 'g']\n",
      "[12, 13, 14, 15, 16, 17, 18]\n"
     ]
    }
   ],
   "source": [
    "a = [1,2,3]\n",
    "print(list(a))\n",
    "\n",
    "s = \"I love wangxiaojing\"\n",
    "print(list(s))\n",
    "print(list(range(12, 19)))"
   ]
  },
  {
   "cell_type": "code",
   "execution_count": 31,
   "metadata": {
    "scrolled": true
   },
   "outputs": [
    {
     "name": "stdout",
     "output_type": "stream",
     "text": [
      "[1, 2, 3, 4, 5, 6]\n",
      "[1, 2, 300, 4, 5, 6]\n",
      "[1, 2, 300, 4, 5, 6]\n",
      "9\n",
      "109\n",
      "9\n"
     ]
    }
   ],
   "source": [
    "def a(n):\n",
    "    n[2] = 300\n",
    "    print(n)\n",
    "    return None\n",
    "\n",
    "def b(n):\n",
    "    n += 100\n",
    "    print(n)\n",
    "    return None\n",
    "\n",
    "\n",
    "an = [1,2,3,4,5,6]\n",
    "bn = 9\n",
    "\n",
    "print(an)\n",
    "a(an)\n",
    "print(an)\n",
    "\n",
    "print(bn)\n",
    "b(bn)\n",
    "print(bn)"
   ]
  },
  {
   "cell_type": "code",
   "execution_count": 38,
   "metadata": {
    "scrolled": true
   },
   "outputs": [
    {
     "name": "stdout",
     "output_type": "stream",
     "text": [
      "[1, 2, 3, 4]\n",
      "[1, 2, 3, 4, 100]\n",
      "[1, 2, 3, 4, 100]\n",
      "[1, 2, 3, 666, 4, 100]\n",
      "100\n",
      "[1, 2, 3, 666, 4]\n",
      "140252571335752\n",
      "[1, 2, 3, 4]\n",
      "140252571335752\n",
      "[]\n",
      "140252571335752\n"
     ]
    }
   ],
   "source": [
    "l = ['a',\"i love wangxiaojing\", 45, 766, 5+4j]\n",
    "\n",
    "a = [ i for i in range(1,5)]\n",
    "print(a)\n",
    "a.append(100)\n",
    "print(a)\n",
    "\n",
    "print(a)\n",
    "a.insert(3, 666) #insert(index,data)\n",
    "print(a)\n",
    "\n",
    "last_ele = a.pop() # list.pop([index=-1]) pop() 函数用于移除列表中的一个元素（默认最后一个元素），并且返回该元素的值。\n",
    "print(last_ele)\n",
    "print(a)\n",
    "print(id(a))\n",
    "\n",
    "a.remove(666)\n",
    "print(a)\n",
    "\n",
    "print(id(a))\n",
    "a.clear()\n",
    "print(a)\n",
    "print(id(a))"
   ]
  },
  {
   "cell_type": "code",
   "execution_count": 39,
   "metadata": {
    "scrolled": true
   },
   "outputs": [
    {
     "name": "stdout",
     "output_type": "stream",
     "text": [
      "[1, 2, 3, 4, 5]\n",
      "140252571257416\n",
      "[5, 4, 3, 2, 1]\n",
      "140252571257416\n"
     ]
    }
   ],
   "source": [
    "a = [ 1,2,3,4,5]\n",
    "print(a)\n",
    "print(id(a))\n",
    "\n",
    "a.reverse() #reverse() 函数用于反向列表中元素\n",
    "\n",
    "print(a)\n",
    "print(id(a))"
   ]
  },
  {
   "cell_type": "code",
   "execution_count": 40,
   "metadata": {
    "scrolled": true
   },
   "outputs": [
    {
     "name": "stdout",
     "output_type": "stream",
     "text": [
      "[1, 2, 3, 4, 5]\n",
      "140252571333768\n",
      "[1, 2, 3, 4, 5, 6, 7, 8, 9, 10]\n",
      "140252571333768\n"
     ]
    }
   ],
   "source": [
    "a = [1,2,3,4,5]\n",
    "b = [6,7,8,9,10]\n",
    "print(a)\n",
    "print(id(a))\n",
    "\n",
    "a.extend(b) # extend() 函数用于在列表末尾一次性追加另一个序列中的多个值（用新列表扩展原来的列表）\n",
    "\n",
    "print(a)\n",
    "print(id(a))"
   ]
  },
  {
   "cell_type": "code",
   "execution_count": 41,
   "metadata": {
    "scrolled": true
   },
   "outputs": [
    {
     "name": "stdout",
     "output_type": "stream",
     "text": [
      "[1, 2, 3, 4, 5, 6, 7, 8, 9, 10]\n",
      "[1, 2, 3, 4, 8, 5, 6, 7, 8, 9, 10, 8]\n",
      "3\n"
     ]
    }
   ],
   "source": [
    "print(a)\n",
    "a.append(8)\n",
    "a.insert(4, 8)\n",
    "print(a)\n",
    "a_len = a.count(8) #\n",
    "print(a_len)"
   ]
  },
  {
   "cell_type": "code",
   "execution_count": 44,
   "metadata": {},
   "outputs": [
    {
     "name": "stdout",
     "output_type": "stream",
     "text": [
      "[1, 2, 3, 4, 5, 666]\n",
      "[1, 2, 3, 777, 5, 666]\n",
      "140252571184584\n",
      "[1, 2, 3, 777, 5, 666]\n",
      "140252571184584\n"
     ]
    }
   ],
   "source": [
    "a = [1,2,3,4,5,666]\n",
    "print(a)\n",
    "\n",
    "b = a\n",
    "b[3] = 777\n",
    "print(a)\n",
    "print(id(a))\n",
    "print(b)\n",
    "print(id(b))"
   ]
  },
  {
   "cell_type": "code",
   "execution_count": 45,
   "metadata": {
    "scrolled": true
   },
   "outputs": [
    {
     "name": "stdout",
     "output_type": "stream",
     "text": [
      "[1, 2, 3, 4, 5, 666]\n",
      "140252571205384\n",
      "[1, 2, 3, 4, 5, 666]\n",
      "140252571334984\n",
      "******************************\n",
      "[1, 2, 3, 4, 5, 666]\n",
      "[1, 2, 3, 888, 5, 666]\n"
     ]
    }
   ],
   "source": [
    "a = [1,2,3,4,5,666]\n",
    "b = a.copy() #\n",
    "print(a)\n",
    "print(id(a))\n",
    "print(b)\n",
    "print(id(b))\n",
    "\n",
    "print(\"*\" * 30)\n",
    "\n",
    "b[3] = 888\n",
    "print(a)\n",
    "print(b)"
   ]
  },
  {
   "cell_type": "code",
   "execution_count": 49,
   "metadata": {
    "scrolled": false
   },
   "outputs": [
    {
     "name": "stdout",
     "output_type": "stream",
     "text": [
      "140252571336264\n",
      "140252571336200\n",
      "140252571336328\n",
      "140252571336328\n",
      "[1, 2, 3, [10, 20, 666]]\n",
      "[1, 2, 3, [10, 20, 666]]\n",
      "140252571336328\n",
      "140252571336328\n",
      "[1, 2, 3, [10, 20, 888]]\n",
      "[1, 2, 3, [10, 20, 888]]\n",
      "140252571336264\n",
      "140252571336200\n",
      "[1, 100, 3, [10, 20, 888]]\n",
      "[1, 2, 3, [10, 20, 888]]\n",
      "140252571336264\n",
      "140252571336200\n",
      "[1, 100, 3, [10, 20, 888]]\n",
      "[1, 200, 3, [10, 20, 888]]\n"
     ]
    }
   ],
   "source": [
    "a = [1,2,3, [10, 20, 30]]\n",
    "b = a.copy()\n",
    "print(id(a))\n",
    "print(id(b))\n",
    "print(id(a[3]))\n",
    "print(id(b[3]))\n",
    "a[3][2] = 666\n",
    "print(a)\n",
    "print(b)\n",
    "\n",
    "b[3][2] = 888\n",
    "print(id(a[3]))\n",
    "print(id(b[3]))\n",
    "print(a)\n",
    "print(b)\n",
    "\n",
    "a[1] = 100\n",
    "print(id(a))\n",
    "print(id(b))\n",
    "print(a)\n",
    "print(b)\n",
    "\n",
    "b[1] = 200\n",
    "print(id(a))\n",
    "print(id(b))\n",
    "print(a)\n",
    "print(b)\n"
   ]
  },
  {
   "cell_type": "code",
   "execution_count": 65,
   "metadata": {
    "scrolled": false
   },
   "outputs": [
    {
     "name": "stdout",
     "output_type": "stream",
     "text": [
      "140252571046344\n",
      "140252571014792\n",
      "[1, 2, 3, ['a', 'f', 'cccc', 'cccc'], 5, 10, 10, 10, 5, 5]\n",
      "[1, 2, 3, ['a', 'f', 'cccc', 'cccc'], 5, 10, 10, 10, 5]\n",
      "140252571046344\n",
      "140252571014792\n",
      "[1, 2, 3, ['a', 'f', 'cccc', 'cccc'], 5, 10, 10, 10, 5, 5]\n",
      "[1, 2, 3, ['a', 'f', 'cccc', 'cccc'], 5, 10, 10, 10, 5]\n",
      "140252571046344\n",
      "140252571014792\n",
      "[1, 2, 3, ['a', 'f', 'cccc', 'cccc', 'cccc'], 5, 10, 10, 10, 5, 5]\n",
      "[1, 2, 3, ['a', 'f', 'cccc', 'cccc', 'cccc'], 5, 10, 10, 10, 5]\n",
      "140252571336328\n",
      "140252571046216\n",
      "140252571046344\n",
      "140252571014856\n",
      "[1, 2, 3, ['a', 'f', 'cccc', 'cccc', 'cccc'], 5, 10, 10, 10, 5, 5]\n",
      "[1, 2, 3, ['a', 'f', 'cccc', 'cccc', 'cccc'], 5, 10, 10, 10, 5, 5]\n",
      "140252571046344\n",
      "140252571014856\n",
      "[1, 2, 3, ['a', 'f', 'cccc', 'cccc', 'cccc'], 5, 10, 10, 10, 5, 5, 10]\n",
      "[1, 2, 3, ['a', 'f', 'cccc', 'cccc', 'cccc'], 5, 10, 10, 10, 5, 5]\n",
      "140252571046344\n",
      "140252571014856\n",
      "[1, 2, 3, ['a', 'g', 'cccc', 'cccc', 'cccc'], 5, 10, 10, 10, 5, 5, 10]\n",
      "[1, 2, 3, ['a', 'f', 'cccc', 'cccc', 'cccc'], 5, 10, 10, 10, 5, 5]\n",
      "140252571336328\n",
      "140252571014920\n"
     ]
    }
   ],
   "source": [
    "import copy\n",
    "\n",
    "\n",
    "# 直接赋值,传递对象的引用而已,原始列表改变，被赋值的b也会做相同的改变;\n",
    "# same memory arrdess\n",
    "\n",
    "\"\"\"\n",
    "\n",
    "alist = [1,2,3,['a','b']]\n",
    "\n",
    "b = alist\n",
    "print(id(alist))\n",
    "print(id(b))\n",
    "print(alist)\n",
    "print(b)\n",
    "\n",
    "\"\"\"\n",
    "\n",
    "\n",
    "#copy浅拷贝，没有拷贝子对象，所以原始数据改变，子对象会改变\n",
    "\n",
    "\"\"\"\n",
    "\n",
    "c = alist.copy()\n",
    "alist.append(5)\n",
    "\n",
    "print(id(alist))\n",
    "print(id(c))\n",
    "print(alist)\n",
    "print(c)\n",
    "\n",
    "alist[3][1] = 'f'\n",
    "print(id(alist))\n",
    "print(id(c))\n",
    "print(alist)\n",
    "print(c)\n",
    "\n",
    "alist[3].append('cccc')\n",
    "print(id(alist))\n",
    "print(id(c))\n",
    "print(alist)\n",
    "print(c)\n",
    "print(id(a[3]))\n",
    "print(id(c[3]))\n",
    "\n",
    "\n",
    "\"\"\"\n",
    "\n",
    "\n",
    "\n",
    "# 深拷贝，包含对象里面的自对象的拷贝，所以原始对象的改变不会造成深拷贝里任何子元素的改变\n",
    "\n",
    "\n",
    "d = copy.deepcopy(alist)\n",
    "print(id(alist))\n",
    "print(id(d))\n",
    "print(alist)\n",
    "print(d)\n",
    "\n",
    "alist.append(10)\n",
    "print(id(alist))\n",
    "print(id(d))\n",
    "print(alist)\n",
    "print(d)\n",
    "\n",
    "alist[3][1] = 'g'\n",
    "print(id(alist))\n",
    "print(id(d))\n",
    "print(alist)\n",
    "print(d)\n",
    "print(id(a[3]))\n",
    "print(id(d[3]))\n"
   ]
  },
  {
   "cell_type": "code",
   "execution_count": 71,
   "metadata": {
    "scrolled": true
   },
   "outputs": [
    {
     "name": "stdout",
     "output_type": "stream",
     "text": [
      "<class 'tuple'>\n",
      "<class 'tuple'>\n",
      "(1,)\n",
      "<class 'tuple'>\n",
      "(1,)\n",
      "<class 'tuple'>\n",
      "(1, 2, 3, 4, 5)\n",
      "<class 'tuple'>\n",
      "(1, 2, 3, 4, 5)\n",
      "<class 'tuple'>\n",
      "(1, 2, 3, 4, 5)\n"
     ]
    }
   ],
   "source": [
    "# 创建空元组\n",
    "t = ()\n",
    "print(type(t))\n",
    "\n",
    "# 创建一个只有一个值的元组\n",
    "t = (1,)\n",
    "print(type(t))\n",
    "print(t)\n",
    "\n",
    "# 创建多个值的元组\n",
    "t = (1,2,3,4,5)\n",
    "print(type(t))\n",
    "print(t)\n",
    "\n",
    "# 使用其他结构创建\n",
    "l = [1,2,3,4,5]\n",
    "t = tuple(l)\n",
    "print(type(t))\n",
    "print(t)\n"
   ]
  },
  {
   "cell_type": "code",
   "execution_count": 77,
   "metadata": {
    "scrolled": true
   },
   "outputs": [
    {
     "name": "stdout",
     "output_type": "stream",
     "text": [
      "YES\n",
      "1 2 3 wangxiaojing i love "
     ]
    }
   ],
   "source": [
    "# 成员检测\n",
    "t = (1,2,3)\n",
    "if 2 in t:\n",
    "    print(\"YES\")\n",
    "else:\n",
    "    print(\"NO\")\n",
    "    \n",
    "# 元组遍历，一般采用for\n",
    "# 1. 单层元组遍历\n",
    "t = (1,2,3,\"wangxiaojing\", \"i\", \"love\")\n",
    "for i in t:\n",
    "    print(i, end=\" \")\n"
   ]
  },
  {
   "cell_type": "code",
   "execution_count": 79,
   "metadata": {},
   "outputs": [
    {
     "name": "stdout",
     "output_type": "stream",
     "text": [
      "(1, 2, 3)\n",
      "(2, 3, 4)\n",
      "('i', 'love', 'wangxiaojing')\n",
      "1 -- 2 -- 3\n",
      "2 -- 3 -- 4\n",
      "i -- love -- wangxiaojing\n"
     ]
    }
   ],
   "source": [
    "# 2. 双层元组的遍历\n",
    "t = ((1,2,3), (2,3,4),(\"i\", \"love\", \"wangxiaojing\"))\n",
    "\n",
    "for i in t:\n",
    "    print(i)\n",
    "    \n",
    "for k,m,n in t:\n",
    "    print(k,'--',m,'--',n)"
   ]
  }
 ],
 "metadata": {
  "kernelspec": {
   "display_name": "Python 3",
   "language": "python",
   "name": "python3"
  },
  "language_info": {
   "codemirror_mode": {
    "name": "ipython",
    "version": 3
   },
   "file_extension": ".py",
   "mimetype": "text/x-python",
   "name": "python",
   "nbconvert_exporter": "python",
   "pygments_lexer": "ipython3",
   "version": "3.7.0"
  }
 },
 "nbformat": 4,
 "nbformat_minor": 2
}
