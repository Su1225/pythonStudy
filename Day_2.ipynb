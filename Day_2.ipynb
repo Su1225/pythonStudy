{
 "cells": [
  {
   "cell_type": "markdown",
   "metadata": {},
   "source": [
    "String Format:\n",
    "    -Two ways:\n",
    "     1. use % - %d(int) %s(string)\n",
    "     2. format function - str.format() - {} and : replace %"
   ]
  },
  {
   "cell_type": "code",
   "execution_count": 1,
   "metadata": {},
   "outputs": [
    {
     "name": "stdout",
     "output_type": "stream",
     "text": [
      "I am %d years old\n",
      "I am 27 years old\n"
     ]
    }
   ],
   "source": [
    "s = \"I am %d years old\"\n",
    "print(s)\n",
    "print(s%27)"
   ]
  },
  {
   "cell_type": "code",
   "execution_count": 2,
   "metadata": {},
   "outputs": [
    {
     "name": "stdout",
     "output_type": "stream",
     "text": [
      "I am Chris Su, i am 27 years old\n"
     ]
    }
   ],
   "source": [
    "s = \"I am %s, i am %d years old\"\n",
    "print(s%(\"Chris Su\", 27))"
   ]
  },
  {
   "cell_type": "code",
   "execution_count": 3,
   "metadata": {},
   "outputs": [
    {
     "name": "stdout",
     "output_type": "stream",
     "text": [
      "I love Jane Zhang\n"
     ]
    }
   ],
   "source": [
    "s = \"I love {}\".format(\"Jane Zhang\")\n",
    "print(s)"
   ]
  },
  {
   "cell_type": "code",
   "execution_count": 5,
   "metadata": {},
   "outputs": [
    {
     "name": "stdout",
     "output_type": "stream",
     "text": [
      "I love Jane Zhang, she is 34 and her job is singer, and she is the best singer.\n",
      "I love Jane Zhang, she is 34 and her job is singer, and she is the best singer.\n"
     ]
    }
   ],
   "source": [
    "s = \"I love {0}, she is {2} and her job is {1}, and she is the best singer.\".format(\"Jane Zhang\",\"singer\", 34)\n",
    "print(s)\n",
    "s = \"I love {name}, she is {age} and her job is {job}, and she is the best singer.\".format(name = \"Jane Zhang\", job = \"singer\", age = 34)\n",
    "print(s)"
   ]
  },
  {
   "cell_type": "code",
   "execution_count": 6,
   "metadata": {},
   "outputs": [
    {
     "name": "stdout",
     "output_type": "stream",
     "text": [
      "The Zen of Python, by Tim Peters\n",
      "\n",
      "Beautiful is better than ugly.\n",
      "Explicit is better than implicit.\n",
      "Simple is better than complex.\n",
      "Complex is better than complicated.\n",
      "Flat is better than nested.\n",
      "Sparse is better than dense.\n",
      "Readability counts.\n",
      "Special cases aren't special enough to break the rules.\n",
      "Although practicality beats purity.\n",
      "Errors should never pass silently.\n",
      "Unless explicitly silenced.\n",
      "In the face of ambiguity, refuse the temptation to guess.\n",
      "There should be one-- and preferably only one --obvious way to do it.\n",
      "Although that way may not be obvious at first unless you're Dutch.\n",
      "Now is better than never.\n",
      "Although never is often better than *right* now.\n",
      "If the implementation is hard to explain, it's a bad idea.\n",
      "If the implementation is easy to explain, it may be a good idea.\n",
      "Namespaces are one honking great idea -- let's do more of those!\n"
     ]
    }
   ],
   "source": [
    "import this"
   ]
  },
  {
   "cell_type": "code",
   "execution_count": 13,
   "metadata": {},
   "outputs": [],
   "source": [
    "import turtle\n",
    "turtle.pensize(4)\n",
    "turtle.pencolor('red')\n",
    "turtle.forward(100)\n",
    "turtle.right(100)\n",
    "turtle.forward(100)\n",
    "turtle.left(90)\n",
    "turtle.forward(100)\n",
    "turtle.right(90)\n",
    "turtle.forward(100)\n",
    "turtle.mainloop()"
   ]
  },
  {
   "cell_type": "code",
   "execution_count": 27,
   "metadata": {},
   "outputs": [],
   "source": [
    "from turtle import *\n",
    "\n",
    "def nose(x,y):\n",
    "    penup()\n",
    "    goto(x,y)\n",
    "    pendown()\n",
    "    setheading(-30)\n",
    "    begin_fill()\n",
    "    a = 0.4\n",
    "    for i in range(120):\n",
    "        if 0 <= i < 30 or 60 <= i < 90:\n",
    "            a = a + 0.08\n",
    "            left(3)\n",
    "            forward(a)\n",
    "        else:\n",
    "            a = a - 0.08\n",
    "            left(3)\n",
    "            forward(a)\n",
    "    end_fill()\n",
    "    \n",
    "    penup()\n",
    "    setheading(90)\n",
    "    forward(25)\n",
    "    setheading(0)\n",
    "    forward(10)\n",
    "    pendown()\n",
    "    pencolor(255,155,192)\n",
    "    setheading(10)\n",
    "    begin_fill()\n",
    "    circle(5)\n",
    "    color(160,82,45)\n",
    "    end_fill()\n",
    "    \n",
    "    penup()\n",
    "    setheading(0)\n",
    "    forward(20)\n",
    "    pendown()\n",
    "    pencolor(255,155,192)\n",
    "    setheading(10)\n",
    "    begin_fill()\n",
    "    circle(5)\n",
    "    color(160,82,45)\n",
    "    end_fill()\n",
    "\n",
    "    \n",
    "def head(x,y):\n",
    "    color((255,155,192),\"pink\")\n",
    "    penup()\n",
    "    goto(x,y)\n",
    "    setheading(0)\n",
    "    pendown()\n",
    "    begin_fill()\n",
    "    setheading(180)\n",
    "    circle(300,-30)\n",
    "    circle(100,-60)\n",
    "    circle(80,-100)\n",
    "    circle(150,-20)\n",
    "    circle(60,-95)\n",
    "    setheading(161)\n",
    "    circle(-300,15)\n",
    "    penup()\n",
    "    goto(-100,100)\n",
    "    pendown()\n",
    "    setheading(-30)\n",
    "    \n",
    "    a = 0.4\n",
    "    for i in range(60):\n",
    "        if 0 <= i < 30 or 60 <= i < 90:\n",
    "            a = a + 0.08\n",
    "            left(3)\n",
    "            forward(a)\n",
    "        else:\n",
    "            a = a - 0.08\n",
    "            left(3)\n",
    "            forward(a)\n",
    "    end_fill()\n",
    "\n",
    "def ears(x,y):\n",
    "    color((255,155,192),\"pink\")\n",
    "    penup()\n",
    "    goto(x,y)\n",
    "    pendown()\n",
    "    begin_fill()\n",
    "    setheading(100)\n",
    "    circle(-50,50)\n",
    "    circle(-10,120)\n",
    "    circle(-50,54)\n",
    "    end_fill()\n",
    "    \n",
    "    penup()\n",
    "    setheading(90)\n",
    "    forward(-12)\n",
    "    setheading(0)\n",
    "    forward(30)\n",
    "    pendown()\n",
    "    begin_fill()\n",
    "    setheading(100)\n",
    "    circle(-50,50)\n",
    "    circle(-10,120)\n",
    "    circle(-50,56)\n",
    "    end_fill()\n",
    "    \n",
    "def eyes(x,y):\n",
    "    color((255,155,192),\"white\")\n",
    "    penup()\n",
    "    setheading(90)\n",
    "    forward(-20)\n",
    "    setheading(0)\n",
    "    forward(-95)\n",
    "    pendown()\n",
    "    begin_fill()\n",
    "    circle(15)\n",
    "    end_fill()\n",
    "    \n",
    "    color(\"black\")\n",
    "    penup()\n",
    "    setheading(90)\n",
    "    forward(12)\n",
    "    setheading(0)\n",
    "    forward(-3)\n",
    "    pendown()\n",
    "    begin_fill()\n",
    "    circle(3)\n",
    "    end_fill()\n",
    "    \n",
    "    color((255,155,192),\"white\")\n",
    "    penup()\n",
    "    setheading(90)\n",
    "    forward(-25)\n",
    "    setheading(0)\n",
    "    forward(40)\n",
    "    pendown()\n",
    "    begin_fill()\n",
    "    circle(15)\n",
    "    end_fill()\n",
    "    \n",
    "    \n",
    "    color(\"black\")\n",
    "    penup()\n",
    "    setheading(90)\n",
    "    forward(12)\n",
    "    setheading(0)\n",
    "    forward(-3)\n",
    "    pendown()\n",
    "    begin_fill()\n",
    "    circle(3)\n",
    "    end_fill()\n",
    "\n",
    "def cheek(x,y):\n",
    "    color((255,155,192))\n",
    "    penup()\n",
    "    goto(x,y)\n",
    "    pendown()\n",
    "    setheading(0)\n",
    "    begin_fill()\n",
    "    circle(30)\n",
    "    end_fill()\n",
    "\n",
    "def mouth(x,y):\n",
    "    color((239,69,19))\n",
    "    penup()\n",
    "    goto(x,y)\n",
    "    pendown()\n",
    "    setheading(-80)\n",
    "    circle(30,40)\n",
    "    circle(40,80)\n",
    "\n",
    "def setting():\n",
    "    pensize(4)\n",
    "    hideturtle()\n",
    "    colormode(255)\n",
    "    color((255,155,192),\"pink\")\n",
    "    setup(840,500)\n",
    "    speed(10)\n",
    "\n",
    "def main():\n",
    "    setting()\n",
    "    nose(-100,100)\n",
    "    head(-69,167)\n",
    "    ears(0,160)\n",
    "    eyes(0,140)\n",
    "    cheek(80,10)\n",
    "    mouth(-20,30)\n",
    "    done()\n",
    "    \n",
    "if __name__ == '__main__':\n",
    "    main()"
   ]
  },
  {
   "cell_type": "markdown",
   "metadata": {},
   "source": [
    "## 运算符分类：\n",
    "\n",
    "1. 算数运算符: +,-,*, /, %, **, //, \n",
    " \n",
    "2. 比较或者关系运算符:  ==, !=, <>, >, <, <=, >=\n",
    "\n",
    "3. 赋值运算符: =, +=, -=, *=, /=, %=, **=, //=\n",
    "\n",
    "4. 逻辑运算符: and, or, not\n",
    "\n",
    "5. 位运算: \n",
    "\n",
    "6. 成员运算: in, not in\n",
    "\n",
    "7. 身份运算符: is , not is"
   ]
  }
 ],
 "metadata": {
  "kernelspec": {
   "display_name": "Python 3",
   "language": "python",
   "name": "python3"
  },
  "language_info": {
   "codemirror_mode": {
    "name": "ipython",
    "version": 3
   },
   "file_extension": ".py",
   "mimetype": "text/x-python",
   "name": "python",
   "nbconvert_exporter": "python",
   "pygments_lexer": "ipython3",
   "version": "3.7.0"
  }
 },
 "nbformat": 4,
 "nbformat_minor": 2
}
